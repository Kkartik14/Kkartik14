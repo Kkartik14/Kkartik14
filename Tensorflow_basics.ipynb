{
  "nbformat": 4,
  "nbformat_minor": 0,
  "metadata": {
    "colab": {
      "provenance": [],
      "authorship_tag": "ABX9TyNeH1a09Zdvnj4eXsvBRbkP",
      "include_colab_link": true
    },
    "kernelspec": {
      "name": "python3",
      "display_name": "Python 3"
    },
    "language_info": {
      "name": "python"
    }
  },
  "cells": [
    {
      "cell_type": "markdown",
      "metadata": {
        "id": "view-in-github",
        "colab_type": "text"
      },
      "source": [
        "<a href=\"https://colab.research.google.com/github/Kkartik14/Kkartik14/blob/main/Tensorflow_basics.ipynb\" target=\"_parent\"><img src=\"https://colab.research.google.com/assets/colab-badge.svg\" alt=\"Open In Colab\"/></a>"
      ]
    },
    {
      "cell_type": "code",
      "execution_count": null,
      "metadata": {
        "colab": {
          "base_uri": "https://localhost:8080/"
        },
        "id": "dpaMgN42LvL0",
        "outputId": "2f8793db-2a82-4aad-bb6c-2b84ca5c5c13"
      },
      "outputs": [
        {
          "output_type": "stream",
          "name": "stdout",
          "text": [
            "<module 'tensorflow._api.v2.version' from '/usr/local/lib/python3.10/dist-packages/tensorflow/_api/v2/version/__init__.py'>\n"
          ]
        }
      ],
      "source": [
        "import tensorflow as tf\n",
        "print(tf.version)"
      ]
    },
    {
      "cell_type": "markdown",
      "source": [
        "Vector -> data point and can have number of dimensions\n",
        "TENSOR-> main object passed around and manipulated, each tensor has a data type and a shape(representation of dimensions of tensor)."
      ],
      "metadata": {
        "id": "z1A2cGrcSnWe"
      }
    },
    {
      "cell_type": "markdown",
      "source": [
        "Creating tensors"
      ],
      "metadata": {
        "id": "XT8g0S-6TJ2g"
      }
    },
    {
      "cell_type": "code",
      "source": [
        "string = tf.Variable(\"this\",tf.string)\n",
        "num = tf.Variable(1,tf.int64)"
      ],
      "metadata": {
        "id": "_g9DDWlTM5hu"
      },
      "execution_count": null,
      "outputs": []
    },
    {
      "cell_type": "markdown",
      "source": [
        "Rank/Degree of Tensors"
      ],
      "metadata": {
        "id": "2x1fSYVGUh7f"
      }
    },
    {
      "cell_type": "markdown",
      "source": [
        "Number of dimensions involved in the tensor. Tensor of rank 0 is called scaler\n",
        "When we have an array it is automatically atleast rank 1\n"
      ],
      "metadata": {
        "id": "tqBNs_rwUcYl"
      }
    },
    {
      "cell_type": "code",
      "source": [
        "tensor_1= tf.Variable([\"Test\"], tf.string)\n",
        "tensor_2 = tf.Variable([[\"test\",\"ok\"],[\"test\",\"yes\"]],tf.string)\n",
        "tensor_3 = tf.Variable([[[\"test\",\"ok\",\"one\"],[\"test\",\"ok\",\"one\"]],[[\"test\",\"ok\",\"one\"],[\"test\",\"ok\",\"one\"]]],tf.string)"
      ],
      "metadata": {
        "id": "_GeUejQGVEvn"
      },
      "execution_count": null,
      "outputs": []
    },
    {
      "cell_type": "markdown",
      "source": [
        "method to determine rank of the tensor"
      ],
      "metadata": {
        "id": "t6sfREL-U1qC"
      }
    },
    {
      "cell_type": "code",
      "source": [
        "tf.rank(tensor_2)"
      ],
      "metadata": {
        "colab": {
          "base_uri": "https://localhost:8080/"
        },
        "id": "L8gxIXz8U45V",
        "outputId": "1d67d9e4-0ec5-4169-ab8f-a91e01d29070"
      },
      "execution_count": null,
      "outputs": [
        {
          "output_type": "execute_result",
          "data": {
            "text/plain": [
              "<tf.Tensor: shape=(), dtype=int32, numpy=2>"
            ]
          },
          "metadata": {},
          "execution_count": 7
        }
      ]
    },
    {
      "cell_type": "code",
      "source": [
        "tensor_3.shape"
      ],
      "metadata": {
        "colab": {
          "base_uri": "https://localhost:8080/"
        },
        "id": "vQajDSZ0U85B",
        "outputId": "b0f51a09-799a-40bc-e8aa-8f388535554a"
      },
      "execution_count": null,
      "outputs": [
        {
          "output_type": "execute_result",
          "data": {
            "text/plain": [
              "TensorShape([2, 2, 3])"
            ]
          },
          "metadata": {},
          "execution_count": 8
        }
      ]
    },
    {
      "cell_type": "markdown",
      "source": [
        "Changing the shapes using tf.reshape() method\n"
      ],
      "metadata": {
        "id": "hh-1LpmCBimh"
      }
    },
    {
      "cell_type": "code",
      "source": [
        "tensor = tf.ones([1,2,3])\n",
        "tensor1 = tf.reshape(tensor, [2,3,1])\n",
        "tensor2 = tf.reshape(tensor, [2,-1])\n",
        "print(tensor)\n",
        "print(tensor1)\n",
        "print(tensor2)"
      ],
      "metadata": {
        "id": "t9Znhe6DXcrs",
        "colab": {
          "base_uri": "https://localhost:8080/"
        },
        "outputId": "25e1490d-354a-4b44-92ef-7c49ab6955b9"
      },
      "execution_count": null,
      "outputs": [
        {
          "output_type": "stream",
          "name": "stdout",
          "text": [
            "tf.Tensor(\n",
            "[[[1. 1. 1.]\n",
            "  [1. 1. 1.]]], shape=(1, 2, 3), dtype=float32)\n",
            "tf.Tensor(\n",
            "[[[1.]\n",
            "  [1.]\n",
            "  [1.]]\n",
            "\n",
            " [[1.]\n",
            "  [1.]\n",
            "  [1.]]], shape=(2, 3, 1), dtype=float32)\n",
            "tf.Tensor(\n",
            "[[1. 1. 1.]\n",
            " [1. 1. 1.]], shape=(2, 3), dtype=float32)\n"
          ]
        }
      ]
    },
    {
      "cell_type": "markdown",
      "source": [
        "Different kinds of tensors\n",
        "\n",
        "\n",
        "*   Variables\n",
        "*   Constants\n",
        "*   PlaceHolders\n",
        "*   SparseTensor"
      ],
      "metadata": {
        "id": "fXVhiAQcFCJ6"
      }
    },
    {
      "cell_type": "code",
      "source": [
        "pip install numpy pandas"
      ],
      "metadata": {
        "id": "OrQLLTrf0fqQ"
      },
      "execution_count": null,
      "outputs": []
    }
  ]
}